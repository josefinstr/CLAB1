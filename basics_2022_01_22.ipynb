{
  "cells": [
    {
      "cell_type": "markdown",
      "metadata": {
        "id": "view-in-github",
        "colab_type": "text"
      },
      "source": [
        "<a href=\"https://colab.research.google.com/github/josefinstr/CLAB1/blob/main/basics_2022_01_22.ipynb\" target=\"_parent\"><img src=\"https://colab.research.google.com/assets/colab-badge.svg\" alt=\"Open In Colab\"/></a>"
      ]
    },
    {
      "cell_type": "markdown",
      "metadata": {
        "id": "6KAEXqDqtxTH"
      },
      "source": [
        "Before you turn this problem in, make sure everything runs as expected. First, **restart the kernel** (in the menubar, select Kernel$\\rightarrow$Restart) and then **run all cells** (in the menubar, select Cell$\\rightarrow$Run All).\n",
        "\n",
        "Make sure you fill in any place that says `YOUR CODE HERE` or \"YOUR ANSWER HERE\", as well as your name and collaborators below:"
      ]
    },
    {
      "cell_type": "code",
      "execution_count": null,
      "metadata": {
        "id": "L-f_8sSmtxTW"
      },
      "outputs": [],
      "source": [
        "NAME = \"\"\n",
        "COLLABORATORS = \"\""
      ]
    },
    {
      "cell_type": "markdown",
      "metadata": {
        "id": "0pBnepzEtxTZ"
      },
      "source": [
        "---"
      ]
    },
    {
      "cell_type": "markdown",
      "metadata": {
        "id": "JSEWl7CgtxTa"
      },
      "source": [
        "## Lab: basic Python syntax\n"
      ]
    },
    {
      "cell_type": "markdown",
      "metadata": {
        "deletable": false,
        "editable": false,
        "nbgrader": {
          "cell_type": "markdown",
          "checksum": "e85f0c544c5fd752b49cb220ce12171a",
          "grade": false,
          "grade_id": "cell-d841305055b00f7f",
          "locked": true,
          "schema_version": 3,
          "solution": false
        },
        "id": "BA0R67lXtxTa"
      },
      "source": [
        "#### Exercise 1\n",
        "Write a function 'mymax' that accepts two numbers as parameters and that prints the larger number to the screen. For this elementary exercise, do not use the built-in function 'max()' - just revert to elementary expressions and statements."
      ]
    },
    {
      "cell_type": "code",
      "execution_count": null,
      "metadata": {
        "deletable": false,
        "nbgrader": {
          "cell_type": "code",
          "checksum": "fd749f2f8a51fd6c0bd8e1f96670ebbc",
          "grade": false,
          "grade_id": "cell-ee8c56c7cc588b03",
          "locked": false,
          "schema_version": 3,
          "solution": true
        },
        "id": "pDTSEwFTtxTd"
      },
      "outputs": [],
      "source": [
        "def mymax(x, y):\n",
        "    \"\"\"\n",
        "    Returns the maximum of x and y\n",
        "    \"\"\"\n",
        "    # YOUR CODE HERE\n",
        "    if x > y:\n",
        "      largest = x\n",
        "    else:\n",
        "      largest = y\n",
        "    return largest\n",
        "    raise NotImplementedError()"
      ]
    },
    {
      "cell_type": "code",
      "source": [
        "mymax(7,4)"
      ],
      "metadata": {
        "colab": {
          "base_uri": "https://localhost:8080/"
        },
        "id": "q-LsnKtMx7Sf",
        "outputId": "637a94ff-8385-4555-f383-8e2f6ee96eef"
      },
      "execution_count": null,
      "outputs": [
        {
          "output_type": "execute_result",
          "data": {
            "text/plain": [
              "7"
            ]
          },
          "metadata": {},
          "execution_count": 10
        }
      ]
    },
    {
      "cell_type": "code",
      "execution_count": null,
      "metadata": {
        "deletable": false,
        "editable": false,
        "nbgrader": {
          "cell_type": "code",
          "checksum": "ede23a71ffe72a41f63b5c06c0fd2258",
          "grade": true,
          "grade_id": "cell-304328f9c7d4c051",
          "locked": true,
          "points": 1,
          "schema_version": 3,
          "solution": false
        },
        "id": "7O7sjNCjtxTe"
      },
      "outputs": [],
      "source": [
        "assert mymax(2, 6) == 6, f'mymax(2, 6) -> {mymax(2, 6)} != 6'\n",
        "assert mymax(5, 3) == 5, f'mymax(5, 3) -> {mymax(5, 3)} != 5'"
      ]
    },
    {
      "cell_type": "markdown",
      "metadata": {
        "deletable": false,
        "editable": false,
        "nbgrader": {
          "cell_type": "markdown",
          "checksum": "356c501530a1994ab3be98021618f8b4",
          "grade": false,
          "grade_id": "cell-7e57cd736d5abc19",
          "locked": true,
          "schema_version": 3,
          "solution": false
        },
        "id": "nXghqjCltxTf"
      },
      "source": [
        "#### Exercise 2\n",
        "\n",
        "Write a function to sum the elements of a sequence with a for loop. You can assume that it consists of numeric values."
      ]
    },
    {
      "cell_type": "code",
      "execution_count": null,
      "metadata": {
        "deletable": false,
        "nbgrader": {
          "cell_type": "code",
          "checksum": "e8e60efbb1286c7773d4b858014928d1",
          "grade": false,
          "grade_id": "cell-b607688727ab57f1",
          "locked": false,
          "schema_version": 3,
          "solution": true
        },
        "id": "kRnLy5ZctxTg"
      },
      "outputs": [],
      "source": [
        "def mysum(sequence):\n",
        "    \"\"\"\n",
        "    Returns the sum of the elements in sequence\n",
        "    \"\"\"\n",
        "    # YOUR CODE HERE\n",
        "    sumOfElems = 0\n",
        "    for element in sequence:\n",
        "        sumOfElems += element\n",
        "    return sumOfElems\n",
        "    raise NotImplementedError()"
      ]
    },
    {
      "cell_type": "code",
      "execution_count": null,
      "metadata": {
        "deletable": false,
        "editable": false,
        "nbgrader": {
          "cell_type": "code",
          "checksum": "31ffc9668cca29c452d83ebc57871139",
          "grade": true,
          "grade_id": "cell-24ac435261756312",
          "locked": true,
          "points": 1,
          "schema_version": 3,
          "solution": false
        },
        "id": "wds4b35CtxTi"
      },
      "outputs": [],
      "source": [
        "assert mysum([1, 2]) == 3, f'mysum([1, 2]) -> {mysum([1, 2])} != 3'\n",
        "assert mysum((1, 1/2, 1/4)) == 1.75, f'mysum((1, 1/2, 1/4)) -> {mysum((1, 1/2, 1/4))} != 1.75'"
      ]
    },
    {
      "cell_type": "markdown",
      "metadata": {
        "deletable": false,
        "editable": false,
        "nbgrader": {
          "cell_type": "markdown",
          "checksum": "ce4e1a6901bb8d84db1d25684780b051",
          "grade": false,
          "grade_id": "cell-0fcb64dce5cad45f",
          "locked": true,
          "schema_version": 3,
          "solution": false
        },
        "id": "dIhA9dC_txTj"
      },
      "source": [
        "#### Exercise 3\n",
        "\n",
        "Variables of `str` type has a method `join` defined such that when a sequence (e.g. `list`, `tuple`) of strings is given as an argument, they are concatenated to a single string with the variable as a separator. E.g.\n",
        "\n",
        "    >>> separator = '-'\n",
        "    >>> separator.join(['father', 'in', 'law'])\n",
        "    'father-in-law'\n",
        "\n",
        "Use the `join` to generate a histogram with stars such that \n",
        "\n",
        "    histogram([3, 4, 1]) \n",
        "    \n",
        "returns\n",
        "\n",
        "    ***\n",
        "    ****\n",
        "    *\n",
        "\n"
      ]
    },
    {
      "cell_type": "code",
      "execution_count": null,
      "metadata": {
        "deletable": false,
        "nbgrader": {
          "cell_type": "code",
          "checksum": "f05b54eac0774ab485601e3147718039",
          "grade": false,
          "grade_id": "cell-631ae09a389a66d4",
          "locked": false,
          "schema_version": 3,
          "solution": true
        },
        "id": "TBQT6Ix0txTk",
        "colab": {
          "base_uri": "https://localhost:8080/"
        },
        "outputId": "7d5615da-1ba2-4479-9504-e054f1722c47"
      },
      "outputs": [
        {
          "output_type": "stream",
          "name": "stdout",
          "text": [
            "Example: the histogram of [3, 4, 1] is \n",
            "***\n",
            "****\n",
            "*\n"
          ]
        }
      ],
      "source": [
        "def histogram(sequence):\n",
        "    \"\"\"\n",
        "    Returns histogram in the form of characters\n",
        "    \n",
        "    >>> histogram([3, 4, 1])\n",
        "    ***\n",
        "    ****\n",
        "    *\n",
        "    \n",
        "    \"\"\"\n",
        "    # YOUR CODE HERE\n",
        "    list = [\"*\" * i for i in sequence]\n",
        "    separator = \"\\n\"\n",
        "    num = separator.join(list)\n",
        "    return num\n",
        "\n",
        "    \n",
        "print(f'Example: the histogram of [3, 4, 1] is \\n{histogram([3, 4, 1])}')"
      ]
    },
    {
      "cell_type": "code",
      "execution_count": null,
      "metadata": {
        "deletable": false,
        "editable": false,
        "nbgrader": {
          "cell_type": "code",
          "checksum": "d5be35305459bbbe704eab09b1d0f57b",
          "grade": true,
          "grade_id": "cell-901ea19debe3ee4c",
          "locked": true,
          "points": 1,
          "schema_version": 3,
          "solution": false
        },
        "id": "D1e_oLR8txTk"
      },
      "outputs": [],
      "source": [
        "assert histogram([]) == \"\", f'\"{histogram([])}\" != \"\" '\n",
        "assert histogram([1, 2]) == \"*\\n**\", f'\"{histogram([1, 2])}\" != \\n\"*\\n**\"'\n",
        "assert histogram([1, 2, 3]) == \"*\\n**\\n***\", f'\"{histogram([1, 2, 3])}\" != \\n \"*\\n**\\n***\"'"
      ]
    },
    {
      "cell_type": "markdown",
      "metadata": {
        "deletable": false,
        "editable": false,
        "nbgrader": {
          "cell_type": "markdown",
          "checksum": "9ac20f3e33cc51d8873efe3aaf431360",
          "grade": false,
          "grade_id": "cell-191cda8f80a291fe",
          "locked": true,
          "schema_version": 3,
          "solution": false
        },
        "id": "zCMPDG2YtxTl"
      },
      "source": [
        "#### Exercise 4\n",
        "\n",
        "Compute how many times a character is present in a string. Use a dictionary to represent the string. "
      ]
    },
    {
      "cell_type": "code",
      "execution_count": null,
      "metadata": {
        "deletable": false,
        "nbgrader": {
          "cell_type": "code",
          "checksum": "d37b6f12c8ec9d6fb595979b794e8e74",
          "grade": false,
          "grade_id": "cell-94b1ecc182583f9b",
          "locked": false,
          "schema_version": 3,
          "solution": true
        },
        "id": "CkQ1NciMtxTm"
      },
      "outputs": [],
      "source": [
        "def character_count(text):\n",
        "    \"\"\"\n",
        "    Returns character count of text\n",
        "    Input: text of type str\n",
        "    Output: dict that maps a character to a number count\n",
        "    \"\"\"\n",
        "    # YOUR CODE HERE\n",
        "    dict = {}\n",
        "    for i in text:\n",
        "        keys = dict.keys()\n",
        "        if i in keys:\n",
        "            dict[i] += 1\n",
        "        else:\n",
        "            dict[i] = 1\n",
        "    return dict\n",
        "    raise NotImplementedError()\n",
        "    \n",
        "    print(f\"Example: Character count of 'ABBA': {character_count('ABBA')}\")"
      ]
    },
    {
      "cell_type": "code",
      "execution_count": null,
      "metadata": {
        "deletable": false,
        "editable": false,
        "nbgrader": {
          "cell_type": "code",
          "checksum": "f4b93d750c28b8f37e4c41970e831022",
          "grade": true,
          "grade_id": "cell-2a787760db753909",
          "locked": true,
          "points": 1,
          "schema_version": 3,
          "solution": false
        },
        "id": "csJt5n_jtxTm"
      },
      "outputs": [],
      "source": [
        "calculated = character_count(\"ABBA\")\n",
        "expected = {\"A\": 2, \"B\": 2}\n",
        "assert calculated == expected, f'{calculated} != {expected}'\n",
        "\n",
        "calculated = character_count(\"CCGGAAGAGCTTACTTAG\")\n",
        "expected = {\"A\": 5, \"C\": 4, \"G\": 5, \"T\": 4}\n",
        "assert calculated == expected, f'{calculated} != {expected}'"
      ]
    },
    {
      "cell_type": "markdown",
      "metadata": {
        "deletable": false,
        "editable": false,
        "nbgrader": {
          "cell_type": "markdown",
          "checksum": "8bf8dfb6fdd1febab23a4d66b19d6777",
          "grade": false,
          "grade_id": "cell-e61ece745b1ea220",
          "locked": true,
          "schema_version": 3,
          "solution": false
        },
        "id": "rv7wol-jtxTn"
      },
      "source": [
        "#### Exercise 5\n",
        "\n",
        "A simple encryption scheme known as Caesarian roll, is obtained by shifting characters a fixed amount. In Python we can obtain the order of a character with the `ord` function\n",
        "\n",
        "    >>> ord('A')\n",
        "    65\n",
        "    \n",
        "and there reverse operation\n",
        "\n",
        "    >>> chr(65)\n",
        "    'A' \n",
        "    \n",
        "Use this in a function that takes a string and returns the encrypted representation"
      ]
    },
    {
      "cell_type": "code",
      "execution_count": null,
      "metadata": {
        "deletable": false,
        "nbgrader": {
          "cell_type": "code",
          "checksum": "d8014ed5a76f0220d665f79d07ae530c",
          "grade": false,
          "grade_id": "cell-95b86ffef93462ec",
          "locked": false,
          "schema_version": 3,
          "solution": true
        },
        "id": "G_EF3LFztxTo"
      },
      "outputs": [],
      "source": [
        "def caesar_shift(text, n):\n",
        "    \"\"\"\n",
        "    Returns an encrypted string by shifting input characters by n\n",
        "    \"\"\"\n",
        "    # YOUR CODE HERE\n",
        "    return ''.join(chr(ord(char) + n) for char in text)\n",
        "    raise NotImplementedError()\n",
        "\n",
        "    print(f\"Example: 'PYTHON': {caesar_shift('PYTHON',1)}\")"
      ]
    },
    {
      "cell_type": "code",
      "source": [
        "print(f\"Example: 'PYTHON': {caesar_shift('PYTHON',1)}\")"
      ],
      "metadata": {
        "colab": {
          "base_uri": "https://localhost:8080/"
        },
        "id": "9e8E9fiLNDJA",
        "outputId": "1170bde1-625c-4dd4-874f-aae9ca1202fc"
      },
      "execution_count": null,
      "outputs": [
        {
          "output_type": "stream",
          "name": "stdout",
          "text": [
            "Example: 'PYTHON': QZUIPO\n"
          ]
        }
      ]
    },
    {
      "cell_type": "code",
      "execution_count": null,
      "metadata": {
        "deletable": false,
        "editable": false,
        "nbgrader": {
          "cell_type": "code",
          "checksum": "e35e0716e02c0365c8e58fac45a5d8db",
          "grade": true,
          "grade_id": "cell-4403018cd26de943",
          "locked": true,
          "points": 1,
          "schema_version": 3,
          "solution": false
        },
        "id": "IJ8X2_oRtxTq"
      },
      "outputs": [],
      "source": [
        "assert caesar_shift('a', 0) == 'a'\n",
        "assert caesar_shift('ABBA', 2) == 'CDDC'\n",
        "assert caesar_shift('CDDC', -2) == 'ABBA'"
      ]
    },
    {
      "cell_type": "markdown",
      "metadata": {
        "deletable": false,
        "editable": false,
        "nbgrader": {
          "cell_type": "markdown",
          "checksum": "326a8e0ab493076c9f2cb3df32a7fb4a",
          "grade": false,
          "grade_id": "cell-441f570debcc3b92",
          "locked": true,
          "schema_version": 3,
          "solution": false
        },
        "id": "s4wp8eT6txTq"
      },
      "source": [
        "Optional:\n",
        "\n",
        "Historically, this encryption allegedly used  by the Roman Emperor Caesar (thereby the name). Eventually the encryption was crackedby realizing that some characters are more common than other in a given language. Use the functions defined in previous exercises to\n",
        "\n",
        "* identify the most common character in the crypto text\n",
        "* in the text the second common character is 'e' - what is the shift?\n",
        "* decrypt the crypto_text with `caesar_shift` using a negative shift"
      ]
    },
    {
      "cell_type": "code",
      "execution_count": null,
      "metadata": {
        "deletable": false,
        "editable": false,
        "nbgrader": {
          "cell_type": "code",
          "checksum": "ad1d6ab767ddaff190b02a578d7b33c0",
          "grade": false,
          "grade_id": "cell-d304778231e8e8a9",
          "locked": true,
          "schema_version": 3,
          "solution": false
        },
        "id": "6hc1ZsrTtxTs"
      },
      "outputs": [],
      "source": [
        "crypto_text = \"{v'il3'vy'uv{'{v'ilA'{oh{'pz'{ol'x|lz{pvuA\\x11~ol{oly'.{pz'uvisly'pu'{ol'tpuk'{v'z|mmly\\x11{ol'zspunz'huk'hyyv~z'vm'v|{yhnlv|z'mvy{|ul3\\x11vy'{v'{hrl'hytz'hnhpuz{'h'zlh'vm'{yv|islz3\\x11huk'i\\x80'vwwvzpun'luk'{oltF'{v'kplA'{v'zsllwB\\x11uv'tvylB'huk'i\\x80'h'zsllw'{v'zh\\x80'~l'luk\\x11{ol'olhy{4hjol'huk'{ol'{ov|zhuk'uh{|yhs'zovjrz\\x11{oh{'mslzo'pz'olpy'{v3'.{pz'h'jvuz|tth{pvu\\x11kl}v|{s\\x80'{v'il'~pzo.k5'{v'kpl3'{v'zsllwB\\x11{v'zsllwA'wlyjohujl'{v'kylhtA'h\\x803'{olyl.z'{ol'y|iB\\x11mvy'pu'{oh{'zsllw'vm'klh{o'~oh{'kylhtz'th\\x80'jvtl\\x11~olu'~l'oh}l'zo|mmslk'vmm'{opz'tvy{hs'jvps3\\x11t|z{'np}l'|z'wh|zlA'{olyl.z'{ol'ylzwlj{\\x11{oh{'thrlz'jhshtp{\\x80'vm'zv'svun'spmlB\\x11mvy'~ov'~v|sk'ilhy'{ol'~opwz'huk'zjvyuz'vm'{ptl3\\x11{ol'vwwylzzvy.z'~yvun3'{ol'wyv|k'thu.z'jvu{|tls\\x803\\x11{ol'whunz'vm'klzwpzlk'sv}l3'{ol'sh~.z'klsh\\x803\\x11{ol'puzvslujl'vm'vmmpjl'huk'{ol'zw|yuz\\x11{oh{'wh{plu{'tlyp{'vm'{ol'|u~vy{o\\x80'{hrlz3\\x11~olu'ol'optzlsm'tpno{'opz'x|pl{|z'thrl\\x11~p{o'h'ihyl'ivkrpuF'~ov'~v|sk'mhyklsz'ilhy3\\x11{v'ny|u{'huk'z~lh{'|ukly'h'~lhy\\x80'spml3\\x11i|{'{oh{'{ol'kylhk'vm'zvtl{opun'hm{ly'klh{o3\\x11{ol'|ukpzjv}ly.k'jv|u{y\\x80'myvt'~ovzl'iv|yu\\x11uv'{yh}lssly'yl{|yuz3'w|\\x81\\x81slz'{ol'~pss\\x11huk'thrlz'|z'yh{oly'ilhy'{ovzl'pssz'~l'oh}l\\x11{ohu'ms\\x80'{v'v{olyz'{oh{'~l'ruv~'uv{'vmF\\x11{o|z'jvuzjplujl'kvlz'thrl'jv~hykz'vm'|z'hssB\\x11huk'{o|z'{ol'uh{p}l'o|l'vm'ylzvs|{pvu\\x11pz'zpjrsplk'v.ly'~p{o'{ol'whsl'jhz{'vm'{ov|no{3\\x11huk'lu{lywypzlz'vm'nylh{'wp{o'huk'tvtlu{\\x11~p{o'{opz'ylnhyk'{olpy'j|yylu{z'{|yu'h~y\\x803\\x11huk'svzl'{ol'uhtl'vm'hj{pvu5\\x11\""
      ]
    },
    {
      "cell_type": "code",
      "execution_count": null,
      "metadata": {
        "deletable": false,
        "nbgrader": {
          "cell_type": "code",
          "checksum": "de6e4b97a1d03edfdc11386840155ac4",
          "grade": true,
          "grade_id": "cell-440cb014209f1873",
          "locked": false,
          "points": 0,
          "schema_version": 3,
          "solution": true
        },
        "id": "ErpFQGZ0txTt",
        "colab": {
          "base_uri": "https://localhost:8080/"
        },
        "outputId": "c87759fe-ad7c-4083-b1df-091ce50663fd"
      },
      "outputs": [
        {
          "output_type": "stream",
          "name": "stdout",
          "text": [
            "\n"
          ]
        }
      ],
      "source": [
        "#print(\"Crypto text:\\n\", crypto_text)\n",
        "roll = 0  # redefine this value\n",
        "# YOUR CODE HERE\n",
        "def most_frequent(text):\n",
        "    frequencies = [(c, text.count(c)) for c in set(text)]\n",
        "    return max(frequencies, key=lambda x: x[1])[0]\n",
        "#print(max(character_count(crypto_text)))\n",
        "\n",
        "#raise NotImplementedError()"
      ]
    },
    {
      "cell_type": "code",
      "execution_count": null,
      "metadata": {
        "id": "0x9O-ZOPtxTt",
        "colab": {
          "base_uri": "https://localhost:8080/",
          "height": 35
        },
        "outputId": "4d839da3-fc9e-4c40-90b5-d98b3e476375"
      },
      "outputs": [
        {
          "output_type": "execute_result",
          "data": {
            "application/vnd.google.colaboratory.intrinsic+json": {
              "type": "string"
            },
            "text/plain": [
              "\"'\""
            ]
          },
          "metadata": {},
          "execution_count": 38
        }
      ],
      "source": [
        "most_frequent(crypto_text)"
      ]
    }
  ],
  "metadata": {
    "kernelspec": {
      "display_name": "Python 3",
      "language": "python",
      "name": "python3"
    },
    "language_info": {
      "codemirror_mode": {
        "name": "ipython",
        "version": 3
      },
      "file_extension": ".py",
      "mimetype": "text/x-python",
      "name": "python",
      "nbconvert_exporter": "python",
      "pygments_lexer": "ipython3",
      "version": "3.8.6"
    },
    "colab": {
      "name": "basics-2022-01-22.ipynb",
      "provenance": [],
      "include_colab_link": true
    }
  },
  "nbformat": 4,
  "nbformat_minor": 0
}